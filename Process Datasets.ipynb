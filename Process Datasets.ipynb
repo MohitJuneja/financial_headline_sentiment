{
 "cells": [
  {
   "cell_type": "markdown",
   "metadata": {},
   "source": [
    "# Process Datasets\n",
    "\n",
    "To build our sentiment analyser(s) we will be using two core datasets:\n",
    "* Financial phrase book: https://www.researchgate.net/publication/251231364_FinancialPhraseBank-v10/link/0c96051eee4fb1d56e000000/download\n",
    "* Domain specific dictionary: https://github.com/jperla/sentiment-data/tree/master/finance\n",
    "\n",
    "The purpose of this notebook is to:\n",
    "1. download required datasets to the notebook instance.\n",
    "2. restructure them to a tabular format. \n",
    "3. save resulting format to csv so they can be used throughout the project.\n",
    "\n",
    "<b>NOTE:</b> No further analysis takes place in this notebook."
   ]
  },
  {
   "cell_type": "markdown",
   "metadata": {},
   "source": [
    "## Import Libraries"
   ]
  },
  {
   "cell_type": "code",
   "execution_count": 1,
   "metadata": {},
   "outputs": [],
   "source": [
    "import pandas as pd\n",
    "import os"
   ]
  },
  {
   "cell_type": "markdown",
   "metadata": {},
   "source": [
    "## Setup Project Folder Structure"
   ]
  },
  {
   "cell_type": "code",
   "execution_count": 4,
   "metadata": {},
   "outputs": [],
   "source": [
    "# get root directory\n",
    "root = ! pwd\n",
    "root = root[0]\n",
    "\n",
    "# dataset directory\n",
    "dataset_dir = root + '/datasets'\n",
    "\n",
    "# financial phrase bank dataset directory\n",
    "phrase_dir = dataset_dir + '/FinancialPhraseBank'\n",
    "\n",
    "# financial sentiment dictionary dataset directory\n",
    "dictionary_dir = dataset_dir + '/FinancialDictionary'\n",
    "\n",
    "# create project folder structure\n",
    "if not os.path.exists(dataset_dir):\n",
    "    os.mkdir(dataset_dir)\n",
    "if not os.path.exists(phrase_dir):\n",
    "    os.mkdir(phrase_dir)\n",
    "if not os.path.exists(dictionary_dir):\n",
    "    os.mkdir(dictionary_dir)"
   ]
  },
  {
   "cell_type": "markdown",
   "metadata": {},
   "source": [
    "## Get Data"
   ]
  },
  {
   "cell_type": "code",
   "execution_count": 9,
   "metadata": {},
   "outputs": [
    {
     "name": "stdout",
     "output_type": "stream",
     "text": [
      "A    datasets/FinancialDictionary/LoughranMcDonald_Litigious.csv\r\n",
      "A    datasets/FinancialDictionary/LoughranMcDonald_ModalStrong.csv\r\n",
      "A    datasets/FinancialDictionary/LoughranMcDonald_ModalWeak.csv\r\n",
      "A    datasets/FinancialDictionary/LoughranMcDonald_Negative.csv\r\n",
      "A    datasets/FinancialDictionary/LoughranMcDonald_Positive.csv\r\n",
      "A    datasets/FinancialDictionary/LoughranMcDonald_Uncertainty.csv\r\n",
      "Checked out revision 3.\r\n"
     ]
    }
   ],
   "source": [
    "# get financial phrase bank dataset\n",
    "# ! wget -O /home/ec2-user/SageMaker/mle-capstone/datasets/FinancialPhraseBank-v1.0.zip https://www.researchgate.net/publication/251231364_FinancialPhraseBank-v10/link/0c96051eee4fb1d56e000000/download\n",
    "\n",
    "# unzip\n",
    "# ! unzip /home/ec2-user/SageMaker/mle-capstone/datasets/FinancialPhraseBank-v1.0.zip -d \"/home/ec2-user/SageMaker/mle-capstone/datasets/financialphrasebank\"\n",
    "\n",
    "# get financial dictionary from github\n",
    "!svn checkout https://github.com/jperla/sentiment-data/trunk/finance /home/ec2-user/SageMaker/financial_headline_sentiment/datasets/FinancialDictionary"
   ]
  },
  {
   "cell_type": "markdown",
   "metadata": {},
   "source": [
    "## Import Data"
   ]
  },
  {
   "cell_type": "markdown",
   "metadata": {},
   "source": [
    "### Financial Phrase Bank"
   ]
  },
  {
   "cell_type": "code",
   "execution_count": 6,
   "metadata": {},
   "outputs": [],
   "source": [
    "# pseudocode\n",
    "conf_mapping = {'Sentences_AllAgree.txt':1, 'Sentences_75Agree.txt':0.75, \n",
    "                'Sentences_66Agree.txt':0.66, 'Sentences_50Agree.txt':0.5}\n",
    "phrase_files = list(conf_mapping.keys())\n",
    "\n",
    "# stop words\n",
    "class_mapping = {'.@positive': 'positive', '.@neutral': 'neutral', '.@negative': 'negative'}\n",
    "stop_words = list(class_mapping.keys())\n",
    "\n",
    "# define empty dict to store data\n",
    "dict_phrasebank = {'sentiment':[], 'text':[], 'confidence':[]}\n",
    "\n",
    "# initiate empty text\n",
    "text = ''\n",
    "\n",
    "# iterate over each text file\n",
    "for phrase_file in phrase_files:\n",
    "    \n",
    "    # get confidence score relating to text file\n",
    "    confidence = conf_mapping[phrase_file]\n",
    "    \n",
    "    # read text file word by word of text file\n",
    "    with open(phrase_dir + '/' + phrase_file,'r',encoding='\"ISO-8859-1\"') as f:\n",
    "        \n",
    "        # iterate over lines in file\n",
    "        for line in f:\n",
    "            \n",
    "            # iterate over words in line\n",
    "            for word in line.split():\n",
    "                \n",
    "                # when stop word is reached\n",
    "                if word in stop_words:\n",
    "                    \n",
    "                    # update dictionary to store sentiment, text and confidence\n",
    "                    sentiment = class_mapping[word]\n",
    "                    dict_phrasebank['sentiment'].append(sentiment)\n",
    "                    dict_phrasebank['text'].append(text)\n",
    "                    dict_phrasebank['confidence'].append(confidence)\n",
    "                    \n",
    "                    # reset text for next phrase\n",
    "                    text = ''\n",
    "                \n",
    "                # otherwise add word to body of text \n",
    "                else:\n",
    "                    text = text + ' ' + word\n",
    "\n",
    "# create dataframe \n",
    "df_phrasebook = pd.DataFrame(dict_phrasebank)\n",
    "\n",
    "# save dataframe to csv\n",
    "df_phrasebook.to_csv(phrase_dir +'/FinancialPhraseBook.csv')\n",
    "\n",
    "# remove duplicate data to save space\n",
    "#!rm /home/ec2-user/SageMaker/mle-capstone/datasets/FinancialPhraseBank/Sentences_50Agree.txt\n",
    "#!rm /home/ec2-user/SageMaker/mle-capstone/datasets/FinancialPhraseBank/Sentences_66Agree.txt\n",
    "#!rm /home/ec2-user/SageMaker/mle-capstone/datasets/FinancialPhraseBank/Sentences_75Agree.txt\n",
    "#!rm /home/ec2-user/SageMaker/mle-capstone/datasets/FinancialPhraseBank/Sentences_AllAgree.txt"
   ]
  },
  {
   "cell_type": "code",
   "execution_count": 7,
   "metadata": {},
   "outputs": [
    {
     "data": {
      "text/html": [
       "<div>\n",
       "<style scoped>\n",
       "    .dataframe tbody tr th:only-of-type {\n",
       "        vertical-align: middle;\n",
       "    }\n",
       "\n",
       "    .dataframe tbody tr th {\n",
       "        vertical-align: top;\n",
       "    }\n",
       "\n",
       "    .dataframe thead th {\n",
       "        text-align: right;\n",
       "    }\n",
       "</style>\n",
       "<table border=\"1\" class=\"dataframe\">\n",
       "  <thead>\n",
       "    <tr style=\"text-align: right;\">\n",
       "      <th></th>\n",
       "      <th>sentiment</th>\n",
       "      <th>text</th>\n",
       "      <th>confidence</th>\n",
       "    </tr>\n",
       "  </thead>\n",
       "  <tbody>\n",
       "    <tr>\n",
       "      <th>0</th>\n",
       "      <td>neutral</td>\n",
       "      <td>According to Gran , the company has no plans ...</td>\n",
       "      <td>1.0</td>\n",
       "    </tr>\n",
       "    <tr>\n",
       "      <th>1</th>\n",
       "      <td>positive</td>\n",
       "      <td>For the last quarter of 2010 , Componenta 's ...</td>\n",
       "      <td>1.0</td>\n",
       "    </tr>\n",
       "    <tr>\n",
       "      <th>2</th>\n",
       "      <td>positive</td>\n",
       "      <td>In the third quarter of 2010 , net sales incr...</td>\n",
       "      <td>1.0</td>\n",
       "    </tr>\n",
       "    <tr>\n",
       "      <th>3</th>\n",
       "      <td>positive</td>\n",
       "      <td>Operating profit rose to EUR 13.1 mn from EUR...</td>\n",
       "      <td>1.0</td>\n",
       "    </tr>\n",
       "    <tr>\n",
       "      <th>4</th>\n",
       "      <td>positive</td>\n",
       "      <td>Operating profit totalled EUR 21.1 mn , up fr...</td>\n",
       "      <td>1.0</td>\n",
       "    </tr>\n",
       "  </tbody>\n",
       "</table>\n",
       "</div>"
      ],
      "text/plain": [
       "  sentiment                                               text  confidence\n",
       "0   neutral   According to Gran , the company has no plans ...         1.0\n",
       "1  positive   For the last quarter of 2010 , Componenta 's ...         1.0\n",
       "2  positive   In the third quarter of 2010 , net sales incr...         1.0\n",
       "3  positive   Operating profit rose to EUR 13.1 mn from EUR...         1.0\n",
       "4  positive   Operating profit totalled EUR 21.1 mn , up fr...         1.0"
      ]
     },
     "execution_count": 7,
     "metadata": {},
     "output_type": "execute_result"
    }
   ],
   "source": [
    "df_phrasebook.head()"
   ]
  },
  {
   "cell_type": "markdown",
   "metadata": {},
   "source": [
    "### Financial Dictinoaries"
   ]
  },
  {
   "cell_type": "code",
   "execution_count": 17,
   "metadata": {},
   "outputs": [],
   "source": [
    "df_Litigious = pd.read_csv(dictionary_dir + '/LoughranMcDonald_Litigious.csv', names=['word','year'])\n",
    "df_ModalStrong = pd.read_csv(dictionary_dir + '/LoughranMcDonald_ModalStrong.csv', names=['word','year'])\n",
    "df_ModalWeak = pd.read_csv(dictionary_dir + '/LoughranMcDonald_ModalWeak.csv', names=['word','year'])\n",
    "df_Negative = pd.read_csv(dictionary_dir + '/LoughranMcDonald_Negative.csv', names=['word','year'])\n",
    "df_Positive = pd.read_csv(dictionary_dir + '/LoughranMcDonald_Positive.csv', names=['word','year'])\n",
    "df_Uncertainty = pd.read_csv(dictionary_dir + '/LoughranMcDonald_Uncertainty.csv', names=['word','year'])"
   ]
  },
  {
   "cell_type": "markdown",
   "metadata": {},
   "source": [
    "* Litigious:\n",
    "* ModalStrong:\n",
    "* ModalWeak:\n",
    "* Negative:\n",
    "* Positive:\n",
    "* Uncertainty:\n",
    "\n",
    "Easier to work with one labelled dataFrame rather than many dataFrames representing each word class."
   ]
  },
  {
   "cell_type": "code",
   "execution_count": 21,
   "metadata": {},
   "outputs": [],
   "source": [
    "# add classes\n",
    "df_Litigious['type'] = 'litigious'\n",
    "df_ModalStrong['type'] = 'modalstrong'\n",
    "df_ModalWeak['type'] = 'modalweak'\n",
    "df_Negative['type'] = 'negative'\n",
    "df_Positive['type'] = 'positive'\n",
    "df_Uncertainty['type'] = 'uncertainty'\n",
    "\n",
    "# create single dataframe\n",
    "df_financialDict = pd.concat([df_Litigious, df_ModalStrong, df_ModalWeak, \n",
    "                              df_Negative, df_Positive, df_Uncertainty])\n",
    "\n",
    "# drop year column\n",
    "df_financialDict.drop('year', axis=1, inplace=True)\n",
    "\n",
    "# convert words to lowercase\n",
    "df_financialDict['word'] = df_financialDict['word'].apply(lambda x: x.lower())\n",
    "\n",
    "# save dictionary\n",
    "df_financialDict.to_csv(dictionary_dir+'/LoughranMcDonald_FinancialDictionary.csv', index=False)\n",
    "\n",
    "# remove duplicate data to save space\n",
    "!rm /home/ec2-user/SageMaker/financial_headline_sentiment/datasets/FinancialDictionary/LoughranMcDonald_Litigious.csv\n",
    "!rm /home/ec2-user/SageMaker/financial_headline_sentiment/datasets/FinancialDictionary/LoughranMcDonald_ModalStrong.csv\n",
    "!rm /home/ec2-user/SageMaker/financial_headline_sentiment/datasets/FinancialDictionary/LoughranMcDonald_ModalWeak.csv\n",
    "!rm /home/ec2-user/SageMaker/financial_headline_sentiment/datasets/FinancialDictionary/LoughranMcDonald_Negative.csv\n",
    "!rm /home/ec2-user/SageMaker/financial_headline_sentiment/datasets/FinancialDictionary/LoughranMcDonald_Positive.csv\n",
    "!rm /home/ec2-user/SageMaker/financial_headline_sentiment/datasets/FinancialDictionary/LoughranMcDonald_Uncertainty.csv"
   ]
  },
  {
   "cell_type": "code",
   "execution_count": 22,
   "metadata": {},
   "outputs": [
    {
     "data": {
      "text/html": [
       "<div>\n",
       "<style scoped>\n",
       "    .dataframe tbody tr th:only-of-type {\n",
       "        vertical-align: middle;\n",
       "    }\n",
       "\n",
       "    .dataframe tbody tr th {\n",
       "        vertical-align: top;\n",
       "    }\n",
       "\n",
       "    .dataframe thead th {\n",
       "        text-align: right;\n",
       "    }\n",
       "</style>\n",
       "<table border=\"1\" class=\"dataframe\">\n",
       "  <thead>\n",
       "    <tr style=\"text-align: right;\">\n",
       "      <th></th>\n",
       "      <th>word</th>\n",
       "      <th>type</th>\n",
       "    </tr>\n",
       "  </thead>\n",
       "  <tbody>\n",
       "    <tr>\n",
       "      <th>0</th>\n",
       "      <td>abovementioned</td>\n",
       "      <td>litigious</td>\n",
       "    </tr>\n",
       "    <tr>\n",
       "      <th>1</th>\n",
       "      <td>abrogate</td>\n",
       "      <td>litigious</td>\n",
       "    </tr>\n",
       "    <tr>\n",
       "      <th>2</th>\n",
       "      <td>abrogated</td>\n",
       "      <td>litigious</td>\n",
       "    </tr>\n",
       "    <tr>\n",
       "      <th>3</th>\n",
       "      <td>abrogates</td>\n",
       "      <td>litigious</td>\n",
       "    </tr>\n",
       "    <tr>\n",
       "      <th>4</th>\n",
       "      <td>abrogating</td>\n",
       "      <td>litigious</td>\n",
       "    </tr>\n",
       "  </tbody>\n",
       "</table>\n",
       "</div>"
      ],
      "text/plain": [
       "             word       type\n",
       "0  abovementioned  litigious\n",
       "1        abrogate  litigious\n",
       "2       abrogated  litigious\n",
       "3       abrogates  litigious\n",
       "4      abrogating  litigious"
      ]
     },
     "execution_count": 22,
     "metadata": {},
     "output_type": "execute_result"
    }
   ],
   "source": [
    "df_financialDict.head()"
   ]
  }
 ],
 "metadata": {
  "kernelspec": {
   "display_name": "conda_python3",
   "language": "python",
   "name": "conda_python3"
  },
  "language_info": {
   "codemirror_mode": {
    "name": "ipython",
    "version": 3
   },
   "file_extension": ".py",
   "mimetype": "text/x-python",
   "name": "python",
   "nbconvert_exporter": "python",
   "pygments_lexer": "ipython3",
   "version": "3.6.5"
  }
 },
 "nbformat": 4,
 "nbformat_minor": 4
}
