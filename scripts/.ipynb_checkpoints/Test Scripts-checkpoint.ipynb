{
 "cells": [
  {
   "cell_type": "code",
   "execution_count": 1,
   "metadata": {},
   "outputs": [],
   "source": [
    "import pytest"
   ]
  },
  {
   "cell_type": "code",
   "execution_count": 2,
   "metadata": {},
   "outputs": [
    {
     "name": "stdout",
     "output_type": "stream",
     "text": [
      "\u001b[1m============================= test session starts ==============================\u001b[0m\n",
      "platform linux -- Python 3.7.7, pytest-5.4.1, py-1.8.1, pluggy-0.13.1\n",
      "rootdir: /home/ec2-user/SageMaker/financial_headline_sentiment/scripts\n",
      "plugins: hypothesis-5.8.3, arraydiff-0.3, doctestplus-0.5.0, astropy-header-0.1.2, openfiles-0.4.0, remotedata-0.3.2\n",
      "collected 10 items                                                             \u001b[0m\u001b[1m\n",
      "\n",
      "test_evaluator.py \u001b[32m.\u001b[0m\u001b[31mF\u001b[0m\u001b[31m                                                     [ 20%]\u001b[0m\n",
      "test_helpers.py \u001b[32m.\u001b[0m\u001b[32m.\u001b[0m\u001b[32m.\u001b[0m\u001b[32m.\u001b[0m\u001b[32m.\u001b[0m\u001b[32m.\u001b[0m\u001b[32m.\u001b[0m\u001b[32m.\u001b[0m\u001b[31m                                                 [100%]\u001b[0m\n",
      "\n",
      "=================================== FAILURES ===================================\n",
      "\u001b[31m\u001b[1m____________________________ test_sample_test_basd _____________________________\u001b[0m\n",
      "\n",
      "    \u001b[94mdef\u001b[39;49;00m \u001b[92mtest_sample_test_basd\u001b[39;49;00m():\n",
      ">       \u001b[94massert\u001b[39;49;00m(\u001b[94m1\u001b[39;49;00m==\u001b[94m2\u001b[39;49;00m)\n",
      "\u001b[1m\u001b[31mE       assert 1 == 2\u001b[0m\n",
      "\n",
      "\u001b[1m\u001b[31mtest_evaluator.py\u001b[0m:5: AssertionError\n",
      "\u001b[33m=============================== warnings summary ===============================\u001b[0m\n",
      "/home/ec2-user/anaconda3/lib/python3.7/site-packages/nltk/decorators.py:68\n",
      "  /home/ec2-user/anaconda3/lib/python3.7/site-packages/nltk/decorators.py:68: DeprecationWarning: `formatargspec` is deprecated since Python 3.5. Use `signature` and the `Signature` object directly\n",
      "    regargs, varargs, varkwargs, defaults, formatvalue=lambda value: \"\"\n",
      "\n",
      "/home/ec2-user/anaconda3/lib/python3.7/site-packages/nltk/lm/counter.py:15\n",
      "  /home/ec2-user/anaconda3/lib/python3.7/site-packages/nltk/lm/counter.py:15: DeprecationWarning: Using or importing the ABCs from 'collections' instead of from 'collections.abc' is deprecated since Python 3.3,and in 3.9 it will stop working\n",
      "    from collections import Sequence, defaultdict\n",
      "\n",
      "/home/ec2-user/anaconda3/lib/python3.7/site-packages/nltk/lm/vocabulary.py:13\n",
      "  /home/ec2-user/anaconda3/lib/python3.7/site-packages/nltk/lm/vocabulary.py:13: DeprecationWarning: Using or importing the ABCs from 'collections' instead of from 'collections.abc' is deprecated since Python 3.3,and in 3.9 it will stop working\n",
      "    from collections import Counter, Iterable\n",
      "\n",
      "-- Docs: https://docs.pytest.org/en/latest/warnings.html\n",
      "=========================== short test summary info ============================\n",
      "FAILED test_evaluator.py::test_sample_test_basd - assert 1 == 2\n",
      "\u001b[31m=================== \u001b[31m\u001b[1m1 failed\u001b[0m, \u001b[32m9 passed\u001b[0m, \u001b[33m3 warnings\u001b[0m\u001b[31m in 1.15s\u001b[0m\u001b[31m ====================\u001b[0m\n"
     ]
    }
   ],
   "source": [
    "! pytest"
   ]
  },
  {
   "cell_type": "code",
   "execution_count": 36,
   "metadata": {},
   "outputs": [],
   "source": [
    "from helpers import getNodes\n",
    "from helpers import get_regex\n",
    "from helpers import stem_sentence\n",
    "from helpers import remove_stop_words\n",
    "from helpers import split_sentence\n",
    "from helpers import list_to_comma_sep_string\n",
    "from helpers import list_to_string\n",
    "from helpers import pos_tagging"
   ]
  },
  {
   "cell_type": "code",
   "execution_count": 78,
   "metadata": {},
   "outputs": [],
   "source": [
    "# split_sentence tests\n",
    "def test_split_sentence_01():\n",
    "    # empty split\n",
    "    assert(split_sentence('') == [])\n",
    "\n",
    "def test_split_sentence_02():    \n",
    "    # basic split\n",
    "    assert(split_sentence('the rain in spain') == ['the', 'rain', 'in', 'spain'])\n",
    "\n",
    "def test_split_sentence_03():     \n",
    "    # basic split with symbots\n",
    "    assert(split_sentence('!the rain in spain?') == ['!','the', 'rain', 'in', 'spain','?'])\n",
    "\n",
    "def test_split_sentence_04():      \n",
    "    # numerical splits 1\n",
    "    assert(split_sentence('eur50m') == ['eur', '50', 'm'])\n",
    "\n",
    "def test_split_sentence_05():\n",
    "    # numerical splits 2   \n",
    "    assert(split_sentence('eur50.0m') == ['eur', '50.0', 'm'])\n",
    "    \n",
    "def test_split_sentence_06():\n",
    "    # numerical splits 3   \n",
    "    assert(split_sentence('-50m') == ['-50', 'm'])\n",
    "\n",
    "def test_split_sentence_07():    \n",
    "    # function does not split words separated by underscores\n",
    "    assert(split_sentence('operating_profit and') == ['operating_profit', 'and'])\n",
    "\n",
    "    \n",
    "# list_to_comma_sep_string tests\n",
    "def test_list_to_comma_sep_string_01():\n",
    "    # empty list\n",
    "    assert(list_to_comma_sep_string([]) == '')\n",
    "\n",
    "def test_list_to_comma_sep_string_02():\n",
    "    # one word in list\n",
    "    assert(list_to_comma_sep_string(['abc']) == 'abc')\n",
    "\n",
    "def test_list_to_comma_sep_string_03():\n",
    "    # multi word list\n",
    "    assert(list_to_comma_sep_string(['abc', 'def']) == 'abc, def')\n",
    "\n",
    "    \n",
    "# list_to_string tests\n",
    "def test_list_to_string_01():\n",
    "    # empty list\n",
    "    assert(list_to_string([]) == '')\n",
    "    \n",
    "def test_list_to_string_02():\n",
    "    # one word in list\n",
    "    assert(list_to_string(['abc']) == 'abc')\n",
    "\n",
    "def test_list_to_string_03():\n",
    "    # multi word list\n",
    "    assert(list_to_string(['abc', 'def']) == 'abc def')\n",
    "\n",
    "    \n",
    "# pos_tagging tests\n",
    "def test_pos_tagging_01():\n",
    "    # empty list\n",
    "    assert(pos_tagging([]) == [])\n",
    "\n",
    "def test_pos_tagging_02():\n",
    "    # pos tagging simple exmaple\n",
    "    assert(pos_tagging(['the', 'rain', 'in']) == [('the', 'DT'), ('rain', 'NN'), ('in', 'IN')])"
   ]
  },
  {
   "cell_type": "code",
   "execution_count": 79,
   "metadata": {},
   "outputs": [],
   "source": [
    "test_list_to_comma_sep_string()\n",
    "test_list_to_string()\n",
    "test_split_sentence()\n",
    "test_pos_tagging()"
   ]
  },
  {
   "cell_type": "code",
   "execution_count": null,
   "metadata": {},
   "outputs": [],
   "source": []
  }
 ],
 "metadata": {
  "kernelspec": {
   "display_name": "conda_python3",
   "language": "python",
   "name": "conda_python3"
  },
  "language_info": {
   "codemirror_mode": {
    "name": "ipython",
    "version": 3
   },
   "file_extension": ".py",
   "mimetype": "text/x-python",
   "name": "python",
   "nbconvert_exporter": "python",
   "pygments_lexer": "ipython3",
   "version": "3.6.10"
  }
 },
 "nbformat": 4,
 "nbformat_minor": 4
}
