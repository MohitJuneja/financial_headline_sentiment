{
 "cells": [
  {
   "cell_type": "markdown",
   "metadata": {},
   "source": [
    "# Association Rules\n",
    "\n",
    "Implementation: scripts/association_rules.py\n",
    "\n",
    "The apriori algorithm is used to mine the itemsets and generate association rules. Example association ruleset can be seen in Fig X. A pre-defined implementation of the apriori algorithm from the apryori python package was used. \n",
    "\n",
    "The algorithm uses the association rules generated to make predictions on unseen examples by searching for exact matches and partial matches within the association rules and accumulating corresponding confidence values to each of the classes. If no partial matches are found the classes are assigned probabilities in line with the underlying sentiment distribution."
   ]
  },
  {
   "cell_type": "markdown",
   "metadata": {},
   "source": [
    "## Import Libraries"
   ]
  },
  {
   "cell_type": "code",
   "execution_count": 1,
   "metadata": {},
   "outputs": [
    {
     "name": "stdout",
     "output_type": "stream",
     "text": [
      "[nltk_data] Downloading package averaged_perceptron_tagger to\n",
      "[nltk_data]     /home/ec2-user/nltk_data...\n",
      "[nltk_data]   Package averaged_perceptron_tagger is already up-to-\n",
      "[nltk_data]       date!\n"
     ]
    }
   ],
   "source": [
    "# set sys path to access scripts\n",
    "import sys\n",
    "sys.path.append('../')\n",
    "\n",
    "# general\n",
    "import pandas as pd\n",
    "import numpy as np\n",
    "import matplotlib.pyplot as plt\n",
    "import seaborn as sns\n",
    "\n",
    "# model\n",
    "from sklearn.svm import LinearSVC\n",
    "from sklearn.pipeline import Pipeline\n",
    "from sklearn.model_selection import train_test_split\n",
    "import scripts.association_rules as association_rules\n",
    "\n",
    "# custom scripts\n",
    "import scripts.evaluator as evaluator\n",
    "import scripts.config as config\n",
    "from scripts.helpers import get_regex\n",
    "from scripts.helpers import split_sentence\n",
    "from scripts.helpers import list_to_comma_sep_string\n",
    "from scripts.helpers import list_to_string\n",
    "from scripts.helpers import pos_tagging"
   ]
  },
  {
   "cell_type": "markdown",
   "metadata": {},
   "source": [
    "## Import Data"
   ]
  },
  {
   "cell_type": "code",
   "execution_count": 2,
   "metadata": {},
   "outputs": [],
   "source": [
    "df_phrase = pd.read_csv(config.FINANCIAL_PHRASE_BANK)\n",
    "df_domain_dict = pd.read_csv(config.DOMAIN_DICTIONARY)\n",
    "\n",
    "df_phrase['tags'] = df_phrase['tags'].replace(np.NaN,'')"
   ]
  },
  {
   "cell_type": "markdown",
   "metadata": {},
   "source": [
    "## Create Train/Test Sets, Define Model, Train, Test"
   ]
  },
  {
   "cell_type": "code",
   "execution_count": 3,
   "metadata": {},
   "outputs": [
    {
     "data": {
      "text/html": [
       "<div>\n",
       "<style scoped>\n",
       "    .dataframe tbody tr th:only-of-type {\n",
       "        vertical-align: middle;\n",
       "    }\n",
       "\n",
       "    .dataframe tbody tr th {\n",
       "        vertical-align: top;\n",
       "    }\n",
       "\n",
       "    .dataframe thead th {\n",
       "        text-align: right;\n",
       "    }\n",
       "</style>\n",
       "<table border=\"1\" class=\"dataframe\">\n",
       "  <thead>\n",
       "    <tr style=\"text-align: right;\">\n",
       "      <th></th>\n",
       "      <th>experiment</th>\n",
       "      <th>result</th>\n",
       "      <th>accuarcy</th>\n",
       "      <th>precision</th>\n",
       "      <th>recall</th>\n",
       "      <th>fscore</th>\n",
       "      <th>misclass_indicies</th>\n",
       "      <th>predictions</th>\n",
       "    </tr>\n",
       "  </thead>\n",
       "  <tbody>\n",
       "    <tr>\n",
       "      <th>0</th>\n",
       "      <td>ar</td>\n",
       "      <td>cross validation</td>\n",
       "      <td>0.734</td>\n",
       "      <td>0.779</td>\n",
       "      <td>0.605</td>\n",
       "      <td>0.650</td>\n",
       "      <td>[]</td>\n",
       "      <td>[]</td>\n",
       "    </tr>\n",
       "    <tr>\n",
       "      <th>1</th>\n",
       "      <td>ar</td>\n",
       "      <td>test</td>\n",
       "      <td>0.740</td>\n",
       "      <td>0.805</td>\n",
       "      <td>0.611</td>\n",
       "      <td>0.661</td>\n",
       "      <td>[0, 8, 18, 19, 20, 23, 27, 30, 31, 32, 33, 36,...</td>\n",
       "      <td>[neutral, neutral, neutral, neutral, neutral, ...</td>\n",
       "    </tr>\n",
       "  </tbody>\n",
       "</table>\n",
       "</div>"
      ],
      "text/plain": [
       "  experiment            result  accuarcy  precision  recall  fscore  \\\n",
       "0         ar  cross validation     0.734      0.779   0.605   0.650   \n",
       "1         ar              test     0.740      0.805   0.611   0.661   \n",
       "\n",
       "                                   misclass_indicies  \\\n",
       "0                                                 []   \n",
       "1  [0, 8, 18, 19, 20, 23, 27, 30, 31, 32, 33, 36,...   \n",
       "\n",
       "                                         predictions  \n",
       "0                                                 []  \n",
       "1  [neutral, neutral, neutral, neutral, neutral, ...  "
      ]
     },
     "execution_count": 3,
     "metadata": {},
     "output_type": "execute_result"
    },
    {
     "data": {
      "image/png": "[encoded data removed]",
      "text/plain": [
       "<Figure size 432x288 with 2 Axes>"
      ]
     },
     "metadata": {},
     "output_type": "display_data"
    }
   ],
   "source": [
    "# test train split\n",
    "X_train, X_test, y_train, y_test = train_test_split(df_phrase['tags'], \n",
    "                                                    df_phrase['sentiment'], \n",
    "                                                    test_size=config.TEST_SIZE, \n",
    "                                                    random_state=config.RANDOM_STATE)\n",
    "\n",
    "# reset indicies -- required for heirachical classifier\n",
    "# comparisson of models misclassified indicies in seperate notebook\n",
    "# indicies required to be in line accross notebooks\n",
    "X_train = X_train.reset_index(drop=True)\n",
    "y_train = y_train.reset_index(drop=True)\n",
    "X_test = X_test.reset_index(drop=True)\n",
    "y_test = y_test.reset_index(drop=True)\n",
    "\n",
    "# model\n",
    "model = association_rules.association_classifier(0.005, 0.6, 0.0)\n",
    "\n",
    "# evaluator fits, predicts and returns metrics for model\n",
    "_eval = evaluator.evaluator('ar', model, X_train, y_train, X_test, y_test)\n",
    "_eval.plot_confusion()\n",
    "_eval.get_results()"
   ]
  },
  {
   "cell_type": "code",
   "execution_count": 4,
   "metadata": {},
   "outputs": [],
   "source": [
    "_eval.save_results('results/results.csv')"
   ]
  },
  {
   "cell_type": "markdown",
   "metadata": {},
   "source": [
    "## Model Parameters\n",
    "\n",
    "Analysis of the model hyperparameters on performance metrics. "
   ]
  },
  {
   "cell_type": "markdown",
   "metadata": {},
   "source": [
    "### Min-Confidence"
   ]
  },
  {
   "cell_type": "code",
   "execution_count": 5,
   "metadata": {},
   "outputs": [],
   "source": [
    "param='confidence'\n",
    "for i, param_val in enumerate([0.5, 0.55, 0.6, 0.65, 0.7,0.75,0.8]):\n",
    "    if i ==0:\n",
    "        # model\n",
    "        model = association_rules.association_classifier(0.005, param_val, 0.0)\n",
    "\n",
    "        # evaluator fits, predicts and returns metrics for model\n",
    "        _eval = evaluator.evaluator('ar', model, X_train, y_train, X_test, y_test)\n",
    "        results_all = _eval.get_results()\n",
    "        results_all['param_val'] = param_val\n",
    "    else:\n",
    "        # model\n",
    "        model = association_rules.association_classifier(0.005, param_val, 0.0)\n",
    "\n",
    "        # evaluator fits, predicts and returns metrics for model\n",
    "        _eval = evaluator.evaluator('ar', model, X_train, y_train, X_test, y_test)\n",
    "        results = _eval.get_results()\n",
    "        results['param_val'] = param_val    \n",
    "        results_all = results_all.append(results, sort=False)"
   ]
  },
  {
   "cell_type": "code",
   "execution_count": 6,
   "metadata": {},
   "outputs": [],
   "source": [
    "results_all = results_all[results_all.result=='cross validation']\n",
    "results_all.reset_index(inplace=True, drop=True)\n",
    "results_all.param_val.fillna(0, inplace=True)\n",
    "\n",
    "results_formatted = {'experiment':[],'param':[],'param_val':[],'metric':[],'value':[]}\n",
    "for i in list(results_all.index):\n",
    "    results = results_all.iloc[i]\n",
    "    for metric in ['accuarcy', 'precision', 'recall']:\n",
    "        results_formatted['experiment'].append(results.experiment)\n",
    "        results_formatted['param'].append(param)\n",
    "        results_formatted['param_val'].append(results.param_val)\n",
    "        results_formatted['metric'].append(metric)\n",
    "        results_formatted['value'].append(results[metric])\n",
    "results_formatted = pd.DataFrame(results_formatted)\n"
   ]
  },
  {
   "cell_type": "code",
   "execution_count": 7,
   "metadata": {},
   "outputs": [
    {
     "data": {
      "image/png": "[encoded data removed]",
      "text/plain": [
       "<Figure size 441.375x360 with 1 Axes>"
      ]
     },
     "metadata": {},
     "output_type": "display_data"
    }
   ],
   "source": [
    "# create facetgrid\n",
    "g = sns.FacetGrid(results_formatted, col='param', col_wrap=1, sharex=False, legend_out=True, height=5);\n",
    "g.map(sns.lineplot, 'param_val', 'value', 'metric');\n",
    "\n",
    "g.add_legend();\n",
    "\n",
    "#g.fig.suptitle('Figure X. Effect of hyperparameter values on precision, recall and accuracy metrics for Association Rules Classifier.',\n",
    "#               x=0, y=-0.02, verticalalignment = 'bottom', horizontalalignment='left');\n",
    "\n",
    "g.set_axis_labels('param_value', 'metric_value');\n"
   ]
  },
  {
   "cell_type": "markdown",
   "metadata": {},
   "source": [
    "## Rules Generated\n"
   ]
  },
  {
   "cell_type": "code",
   "execution_count": null,
   "metadata": {},
   "outputs": [],
   "source": [
    "_eval.model.df_association_rules"
   ]
  },
  {
   "cell_type": "code",
   "execution_count": null,
   "metadata": {},
   "outputs": [],
   "source": []
  }
 ],
 "metadata": {
  "kernelspec": {
   "display_name": "conda_python3",
   "language": "python",
   "name": "conda_python3"
  },
  "language_info": {
   "codemirror_mode": {
    "name": "ipython",
    "version": 3
   },
   "file_extension": ".py",
   "mimetype": "text/x-python",
   "name": "python",
   "nbconvert_exporter": "python",
   "pygments_lexer": "ipython3",
   "version": "3.6.5"
  }
 },
 "nbformat": 4,
 "nbformat_minor": 4
}
