{
 "cells": [
  {
   "cell_type": "markdown",
   "metadata": {},
   "source": [
    "# Ensemble & HierarchicalClassification\n",
    "\n",
    "* Implementation: scripts/association_rules.py\n",
    "* Implementation: scripts/hierarchical_classifier.py\n",
    "* Implementation: scripts/ensemble.py    "
   ]
  },
  {
   "cell_type": "markdown",
   "metadata": {},
   "source": [
    "## Import Libraries"
   ]
  },
  {
   "cell_type": "code",
   "execution_count": 1,
   "metadata": {},
   "outputs": [
    {
     "name": "stdout",
     "output_type": "stream",
     "text": [
      "[nltk_data] Downloading package averaged_perceptron_tagger to\n",
      "[nltk_data]     /home/ec2-user/nltk_data...\n",
      "[nltk_data]   Package averaged_perceptron_tagger is already up-to-\n",
      "[nltk_data]       date!\n"
     ]
    }
   ],
   "source": [
    "# set sys path to access scripts\n",
    "import sys\n",
    "sys.path.append('../')\n",
    "\n",
    "# general\n",
    "import pandas as pd\n",
    "import numpy as np\n",
    "import matplotlib.pyplot as plt\n",
    "import seaborn as sns\n",
    "\n",
    "# model\n",
    "from sklearn.svm import LinearSVC\n",
    "from sklearn.pipeline import Pipeline\n",
    "from sklearn.model_selection import train_test_split\n",
    "from sklearn.feature_extraction.text import TfidfVectorizer\n",
    "from sklearn.calibration import CalibratedClassifierCV\n",
    "from sklearn.svm import SVC\n",
    "from sklearn.feature_extraction.text import CountVectorizer\n",
    "from sklearn.ensemble import GradientBoostingClassifier\n",
    "\n",
    "import scripts.association_rules as association_rules\n",
    "import scripts.hierarchical_classifier as hierarchical_classifier\n",
    "import scripts.ensemble as ensemble\n",
    "\n",
    "# custom scripts\n",
    "import scripts.evaluator as evaluator\n",
    "import scripts.config as config\n",
    "from scripts.helpers import get_regex\n",
    "from scripts.helpers import split_sentence\n",
    "from scripts.helpers import list_to_comma_sep_string\n",
    "from scripts.helpers import list_to_string\n",
    "from scripts.helpers import pos_tagging"
   ]
  },
  {
   "cell_type": "markdown",
   "metadata": {},
   "source": [
    "## Import Data"
   ]
  },
  {
   "cell_type": "code",
   "execution_count": 2,
   "metadata": {},
   "outputs": [],
   "source": [
    "df_phrase = pd.read_csv(config.FINANCIAL_PHRASE_BANK)\n",
    "df_domain_dict = pd.read_csv(config.DOMAIN_DICTIONARY)\n",
    "\n",
    "df_phrase['tags'] = df_phrase['tags'].replace(np.NaN,'')"
   ]
  },
  {
   "cell_type": "markdown",
   "metadata": {},
   "source": [
    "## Create Train/Test Sets, Define Model, Train, Test"
   ]
  },
  {
   "cell_type": "code",
   "execution_count": 3,
   "metadata": {},
   "outputs": [],
   "source": [
    "# get countvectors from data frame\n",
    "column_names = [column_name for column_name in list(df_phrase.columns) if column_name[0:6]=='count_']\n",
    "column_names.append('tags')\n",
    "column_names.append('text')\n",
    "\n",
    "# test train split\n",
    "X_train, X_test, y_train, y_test = train_test_split(df_phrase[column_names], \n",
    "                                                    df_phrase['sentiment'], \n",
    "                                                    test_size=config.TEST_SIZE, \n",
    "                                                    random_state=config.RANDOM_STATE)\n",
    "\n",
    "# reset indicies -- required for heirachical classifier\n",
    "# comparisson of models misclassified indicies in seperate notebook\n",
    "# indicies required to be in line accross notebooks\n",
    "X_train = X_train.reset_index(drop=True)\n",
    "y_train = y_train.reset_index(drop=True)\n",
    "X_test = X_test.reset_index(drop=True)\n",
    "y_test = y_test.reset_index(drop=True)\n",
    "\n",
    "# specify dataframe column names that relate to training features of specifi model\n",
    "cvt_names = [column_name for column_name in list(df_phrase.columns) if column_name[0:6]=='count_']\n",
    "ac_names = 'tags'\n",
    "svc_names = 'text'"
   ]
  },
  {
   "cell_type": "code",
   "execution_count": 4,
   "metadata": {},
   "outputs": [
    {
     "data": {
      "text/html": [
       "<div>\n",
       "<style scoped>\n",
       "    .dataframe tbody tr th:only-of-type {\n",
       "        vertical-align: middle;\n",
       "    }\n",
       "\n",
       "    .dataframe tbody tr th {\n",
       "        vertical-align: top;\n",
       "    }\n",
       "\n",
       "    .dataframe thead th {\n",
       "        text-align: right;\n",
       "    }\n",
       "</style>\n",
       "<table border=\"1\" class=\"dataframe\">\n",
       "  <thead>\n",
       "    <tr style=\"text-align: right;\">\n",
       "      <th></th>\n",
       "      <th>experiment</th>\n",
       "      <th>result</th>\n",
       "      <th>accuarcy</th>\n",
       "      <th>precision</th>\n",
       "      <th>recall</th>\n",
       "      <th>fscore</th>\n",
       "      <th>misclass_indicies</th>\n",
       "      <th>predictions</th>\n",
       "    </tr>\n",
       "  </thead>\n",
       "  <tbody>\n",
       "    <tr>\n",
       "      <th>0</th>\n",
       "      <td>hc ens</td>\n",
       "      <td>cross validation</td>\n",
       "      <td>0.800</td>\n",
       "      <td>0.797</td>\n",
       "      <td>0.725</td>\n",
       "      <td>0.752</td>\n",
       "      <td>[]</td>\n",
       "      <td>[]</td>\n",
       "    </tr>\n",
       "    <tr>\n",
       "      <th>1</th>\n",
       "      <td>hc ens</td>\n",
       "      <td>test</td>\n",
       "      <td>0.789</td>\n",
       "      <td>0.787</td>\n",
       "      <td>0.705</td>\n",
       "      <td>0.736</td>\n",
       "      <td>[5, 7, 8, 10, 18, 19, 20, 23, 27, 33, 46, 60, ...</td>\n",
       "      <td>[positive, neutral, neutral, neutral, neutral,...</td>\n",
       "    </tr>\n",
       "  </tbody>\n",
       "</table>\n",
       "</div>"
      ],
      "text/plain": [
       "  experiment            result  accuarcy  precision  recall  fscore  \\\n",
       "0     hc ens  cross validation     0.800      0.797   0.725   0.752   \n",
       "1     hc ens              test     0.789      0.787   0.705   0.736   \n",
       "\n",
       "                                   misclass_indicies  \\\n",
       "0                                                 []   \n",
       "1  [5, 7, 8, 10, 18, 19, 20, 23, 27, 33, 46, 60, ...   \n",
       "\n",
       "                                         predictions  \n",
       "0                                                 []  \n",
       "1  [positive, neutral, neutral, neutral, neutral,...  "
      ]
     },
     "execution_count": 4,
     "metadata": {},
     "output_type": "execute_result"
    },
    {
     "data": {
      "image/png": "[encoded data removed]",
      "text/plain": [
       "<Figure size 432x288 with 2 Axes>"
      ]
     },
     "metadata": {},
     "output_type": "display_data"
    }
   ],
   "source": [
    "# model 1\n",
    "model_svc_1 = Pipeline([('tfidf', TfidfVectorizer()),\n",
    "                 ('model', CalibratedClassifierCV(SVC(kernel='linear', probability=True, C=1.5), cv=2))])\n",
    "model_cvt_1 = Pipeline([('model', GradientBoostingClassifier(max_depth = 4,min_samples_leaf = 3,max_leaf_nodes = 5, min_samples_split = 5))])\n",
    "model_ac_1 = association_rules.association_classifier(0.005,0.5,0.0)\n",
    "\n",
    "# model 1 to feature map\n",
    "models_feats_1 = {model_svc_1:svc_names, model_cvt_1:cvt_names, model_ac_1:ac_names}\n",
    "\n",
    "# ensemble 1\n",
    "ens_1 = ensemble.ensemble(models_feats_1, y_test)\n",
    "\n",
    "\n",
    "# model 2\n",
    "model_svc_2 = Pipeline([('tfidf', TfidfVectorizer()),\n",
    "                 ('model', CalibratedClassifierCV(SVC(kernel='linear', probability=True, C=1.5), cv=2))])\n",
    "model_cvt_2 = Pipeline([('model', GradientBoostingClassifier(max_depth = 4,min_samples_leaf = 3,max_leaf_nodes = 5, min_samples_split = 5))])\n",
    "\n",
    "# model 2 to feature map\n",
    "models_feats_2 = {model_cvt_2:cvt_names, model_svc_2:svc_names,}\n",
    "\n",
    "# ensemble 2\n",
    "ens_2 = ensemble.ensemble(models_feats_2, y_test)\n",
    "\n",
    "\n",
    "# hierachy \n",
    "hclass = hierarchical_classifier.heirarchical_classifier(ens_1, ens_2, y_test, ['positive','negative'], 'polarized', 'neutral')\n",
    "\n",
    "\n",
    "# evaluator fits, predicts and returns metrics for model\n",
    "_eval = evaluator.evaluator('hc ens', hclass, X_train, y_train, X_test, y_test)\n",
    "_eval.plot_confusion()\n",
    "_eval.get_results()"
   ]
  },
  {
   "cell_type": "code",
   "execution_count": 6,
   "metadata": {},
   "outputs": [],
   "source": [
    "_eval.save_results('results/results.csv')"
   ]
  }
 ],
 "metadata": {
  "kernelspec": {
   "display_name": "conda_python3",
   "language": "python",
   "name": "conda_python3"
  },
  "language_info": {
   "codemirror_mode": {
    "name": "ipython",
    "version": 3
   },
   "file_extension": ".py",
   "mimetype": "text/x-python",
   "name": "python",
   "nbconvert_exporter": "python",
   "pygments_lexer": "ipython3",
   "version": "3.6.5"
  }
 },
 "nbformat": 4,
 "nbformat_minor": 4
}
