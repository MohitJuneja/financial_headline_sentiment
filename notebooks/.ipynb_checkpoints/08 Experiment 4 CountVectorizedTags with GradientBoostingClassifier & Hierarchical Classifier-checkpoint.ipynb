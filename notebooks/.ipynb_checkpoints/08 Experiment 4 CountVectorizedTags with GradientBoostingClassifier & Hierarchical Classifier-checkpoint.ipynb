{
 "cells": [
  {
   "cell_type": "markdown",
   "metadata": {},
   "source": [
    "# CountVectorizedTags with GradientBoostingClassifier & Hierarchical Classification\n",
    "\n",
    "* Implementation: scripts/hierarchical_classifier.py\n",
    "\n",
    "Hierarchical classifier used to adress neutral vs polarised classifcation."
   ]
  },
  {
   "cell_type": "markdown",
   "metadata": {},
   "source": [
    "## Import Libraries"
   ]
  },
  {
   "cell_type": "code",
   "execution_count": 1,
   "metadata": {},
   "outputs": [
    {
     "name": "stdout",
     "output_type": "stream",
     "text": [
      "[nltk_data] Downloading package averaged_perceptron_tagger to\n",
      "[nltk_data]     /home/ec2-user/nltk_data...\n",
      "[nltk_data]   Package averaged_perceptron_tagger is already up-to-\n",
      "[nltk_data]       date!\n"
     ]
    }
   ],
   "source": [
    "# set sys path to access scripts\n",
    "import sys\n",
    "sys.path.append('../')\n",
    "\n",
    "# general\n",
    "import pandas as pd\n",
    "import numpy as np\n",
    "import matplotlib.pyplot as plt\n",
    "import seaborn as sns\n",
    "\n",
    "# model\n",
    "from sklearn.pipeline import Pipeline\n",
    "from sklearn.model_selection import train_test_split\n",
    "from sklearn.feature_extraction.text import CountVectorizer\n",
    "import scripts.hierarchical_classifier as hierarchical_classifier\n",
    "from sklearn.ensemble import GradientBoostingClassifier\n",
    "\n",
    "# custom scripts\n",
    "import scripts.evaluator as evaluator\n",
    "import scripts.config as config\n",
    "from scripts.helpers import get_regex\n",
    "from scripts.helpers import split_sentence\n",
    "from scripts.helpers import list_to_comma_sep_string\n",
    "from scripts.helpers import list_to_string\n",
    "from scripts.helpers import pos_tagging"
   ]
  },
  {
   "cell_type": "markdown",
   "metadata": {},
   "source": [
    "## Import Data"
   ]
  },
  {
   "cell_type": "code",
   "execution_count": 2,
   "metadata": {},
   "outputs": [],
   "source": [
    "df_phrase = pd.read_csv(config.FINANCIAL_PHRASE_BANK)\n",
    "df_domain_dict = pd.read_csv(config.DOMAIN_DICTIONARY)\n",
    "\n",
    "df_phrase['tags'] = df_phrase['tags'].replace(np.NaN,'')"
   ]
  },
  {
   "cell_type": "markdown",
   "metadata": {},
   "source": [
    "## Create Train/Test Sets, Define Model, Train, Test"
   ]
  },
  {
   "cell_type": "code",
   "execution_count": 3,
   "metadata": {},
   "outputs": [
    {
     "data": {
      "text/html": [
       "<div>\n",
       "<style scoped>\n",
       "    .dataframe tbody tr th:only-of-type {\n",
       "        vertical-align: middle;\n",
       "    }\n",
       "\n",
       "    .dataframe tbody tr th {\n",
       "        vertical-align: top;\n",
       "    }\n",
       "\n",
       "    .dataframe thead th {\n",
       "        text-align: right;\n",
       "    }\n",
       "</style>\n",
       "<table border=\"1\" class=\"dataframe\">\n",
       "  <thead>\n",
       "    <tr style=\"text-align: right;\">\n",
       "      <th></th>\n",
       "      <th>experiment</th>\n",
       "      <th>result</th>\n",
       "      <th>accuarcy</th>\n",
       "      <th>precision</th>\n",
       "      <th>recall</th>\n",
       "      <th>fscore</th>\n",
       "      <th>misclass_indicies</th>\n",
       "      <th>predictions</th>\n",
       "    </tr>\n",
       "  </thead>\n",
       "  <tbody>\n",
       "    <tr>\n",
       "      <th>0</th>\n",
       "      <td>cvt &amp; gbc &amp; hc</td>\n",
       "      <td>cross validation</td>\n",
       "      <td>0.776</td>\n",
       "      <td>0.764</td>\n",
       "      <td>0.707</td>\n",
       "      <td>0.727</td>\n",
       "      <td>[]</td>\n",
       "      <td>[]</td>\n",
       "    </tr>\n",
       "    <tr>\n",
       "      <th>1</th>\n",
       "      <td>cvt &amp; gbc &amp; hc</td>\n",
       "      <td>test</td>\n",
       "      <td>0.766</td>\n",
       "      <td>0.760</td>\n",
       "      <td>0.693</td>\n",
       "      <td>0.716</td>\n",
       "      <td>[8, 18, 19, 20, 22, 23, 33, 36, 40, 46, 60, 63...</td>\n",
       "      <td>[positive, neutral, neutral, neutral, neutral,...</td>\n",
       "    </tr>\n",
       "  </tbody>\n",
       "</table>\n",
       "</div>"
      ],
      "text/plain": [
       "       experiment            result  accuarcy  precision  recall  fscore  \\\n",
       "0  cvt & gbc & hc  cross validation     0.776      0.764   0.707   0.727   \n",
       "1  cvt & gbc & hc              test     0.766      0.760   0.693   0.716   \n",
       "\n",
       "                                   misclass_indicies  \\\n",
       "0                                                 []   \n",
       "1  [8, 18, 19, 20, 22, 23, 33, 36, 40, 46, 60, 63...   \n",
       "\n",
       "                                         predictions  \n",
       "0                                                 []  \n",
       "1  [positive, neutral, neutral, neutral, neutral,...  "
      ]
     },
     "execution_count": 3,
     "metadata": {},
     "output_type": "execute_result"
    },
    {
     "data": {
      "image/png": "[encoded data removed]",
      "text/plain": [
       "<Figure size 432x288 with 2 Axes>"
      ]
     },
     "metadata": {},
     "output_type": "display_data"
    }
   ],
   "source": [
    "# get countvectors from data frame\n",
    "column_names = [column_name for column_name in list(df_phrase.columns) if column_name[0:6]=='count_']\n",
    "\n",
    "# test train split\n",
    "X_train, X_test, y_train, y_test = train_test_split(df_phrase[column_names], \n",
    "                                                    df_phrase['sentiment'], \n",
    "                                                    test_size=config.TEST_SIZE, \n",
    "                                                    random_state=config.RANDOM_STATE)\n",
    "\n",
    "# reset indicies -- required for heirachical classifier\n",
    "# comparisson of models misclassified indicies in seperate notebook\n",
    "# indicies required to be in line accross notebooks\n",
    "X_train = X_train.reset_index(drop=True)\n",
    "y_train = y_train.reset_index(drop=True)\n",
    "X_test = X_test.reset_index(drop=True)\n",
    "y_test = y_test.reset_index(drop=True)\n",
    "\n",
    "# model\n",
    "model_1 = Pipeline([('model', GradientBoostingClassifier())])\n",
    "model_2 = Pipeline([('model', GradientBoostingClassifier())])\n",
    "hclass = hierarchical_classifier.heirarchical_classifier(model_1, model_2, y_test, ['positive','negative'], 'polarized', 'neutral')\n",
    "\n",
    "# evaluator fits, predicts and returns metrics for model\n",
    "_eval_svc = evaluator.evaluator('cvt & gbc & hc', hclass, X_train, y_train, X_test, y_test)\n",
    "_eval_svc.plot_confusion()\n",
    "_eval_svc.get_results()"
   ]
  },
  {
   "cell_type": "code",
   "execution_count": 4,
   "metadata": {},
   "outputs": [],
   "source": [
    "_eval_svc.save_results('results/results.csv')"
   ]
  }
 ],
 "metadata": {
  "kernelspec": {
   "display_name": "conda_python3",
   "language": "python",
   "name": "conda_python3"
  },
  "language_info": {
   "codemirror_mode": {
    "name": "ipython",
    "version": 3
   },
   "file_extension": ".py",
   "mimetype": "text/x-python",
   "name": "python",
   "nbconvert_exporter": "python",
   "pygments_lexer": "ipython3",
   "version": "3.6.5"
  }
 },
 "nbformat": 4,
 "nbformat_minor": 4
}
