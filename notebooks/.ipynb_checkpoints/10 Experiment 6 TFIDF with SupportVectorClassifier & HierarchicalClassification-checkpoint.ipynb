{
 "cells": [
  {
   "cell_type": "markdown",
   "metadata": {},
   "source": [
    "## TFIDF with SupportVectorClassifier & HierarchicalClassification"
   ]
  },
  {
   "cell_type": "markdown",
   "metadata": {},
   "source": [
    "## Import Libraries"
   ]
  },
  {
   "cell_type": "code",
   "execution_count": 1,
   "metadata": {},
   "outputs": [],
   "source": [
    "# set sys path to access scripts\n",
    "import sys\n",
    "sys.path.append('../')\n",
    "\n",
    "# general\n",
    "import pandas as pd\n",
    "import numpy as np\n",
    "import matplotlib.pyplot as plt\n",
    "import seaborn as sns\n",
    "\n",
    "# model\n",
    "from sklearn.svm import LinearSVC\n",
    "from sklearn.pipeline import Pipeline\n",
    "from sklearn.model_selection import train_test_split\n",
    "import scripts.hierarchical_classifier as hierarchical_classifier\n",
    "\n",
    "# custom scripts\n",
    "import scripts.evaluator as evaluator\n",
    "import scripts.config as config"
   ]
  },
  {
   "cell_type": "markdown",
   "metadata": {},
   "source": [
    "## Import Data"
   ]
  },
  {
   "cell_type": "code",
   "execution_count": 2,
   "metadata": {},
   "outputs": [],
   "source": [
    "df_phrase = pd.read_csv(config.FINANCIAL_PHRASE_BANK)\n",
    "df_domain_dict = pd.read_csv(config.DOMAIN_DICTIONARY)"
   ]
  },
  {
   "cell_type": "markdown",
   "metadata": {},
   "source": [
    "## Create Train/Test Sets, Define Model, Train, Test"
   ]
  },
  {
   "cell_type": "code",
   "execution_count": 3,
   "metadata": {},
   "outputs": [],
   "source": [
    "from sklearn.pipeline import Pipeline\n",
    "from sklearn.model_selection import train_test_split\n",
    "from sklearn.feature_extraction.text import TfidfVectorizer\n",
    "from sklearn.svm import LinearSVC\n",
    "from sklearn.naive_bayes import GaussianNB\n",
    "from sklearn.base import TransformerMixin"
   ]
  },
  {
   "cell_type": "code",
   "execution_count": 4,
   "metadata": {},
   "outputs": [
    {
     "data": {
      "text/html": [
       "<div>\n",
       "<style scoped>\n",
       "    .dataframe tbody tr th:only-of-type {\n",
       "        vertical-align: middle;\n",
       "    }\n",
       "\n",
       "    .dataframe tbody tr th {\n",
       "        vertical-align: top;\n",
       "    }\n",
       "\n",
       "    .dataframe thead th {\n",
       "        text-align: right;\n",
       "    }\n",
       "</style>\n",
       "<table border=\"1\" class=\"dataframe\">\n",
       "  <thead>\n",
       "    <tr style=\"text-align: right;\">\n",
       "      <th></th>\n",
       "      <th>experiment</th>\n",
       "      <th>result</th>\n",
       "      <th>accuarcy</th>\n",
       "      <th>precision</th>\n",
       "      <th>recall</th>\n",
       "      <th>fscore</th>\n",
       "      <th>misclass_indicies</th>\n",
       "      <th>predictions</th>\n",
       "    </tr>\n",
       "  </thead>\n",
       "  <tbody>\n",
       "    <tr>\n",
       "      <th>0</th>\n",
       "      <td>tfid &amp; svc &amp; hc</td>\n",
       "      <td>cross validation</td>\n",
       "      <td>0.761</td>\n",
       "      <td>0.735</td>\n",
       "      <td>0.678</td>\n",
       "      <td>0.700</td>\n",
       "      <td>[]</td>\n",
       "      <td>[]</td>\n",
       "    </tr>\n",
       "    <tr>\n",
       "      <th>1</th>\n",
       "      <td>tfid &amp; svc &amp; hc</td>\n",
       "      <td>test</td>\n",
       "      <td>0.748</td>\n",
       "      <td>0.737</td>\n",
       "      <td>0.673</td>\n",
       "      <td>0.698</td>\n",
       "      <td>[7, 8, 10, 12, 15, 18, 19, 23, 27, 32, 33, 43,...</td>\n",
       "      <td>[positive, neutral, neutral, neutral, neutral,...</td>\n",
       "    </tr>\n",
       "  </tbody>\n",
       "</table>\n",
       "</div>"
      ],
      "text/plain": [
       "        experiment            result  accuarcy  precision  recall  fscore  \\\n",
       "0  tfid & svc & hc  cross validation     0.761      0.735   0.678   0.700   \n",
       "1  tfid & svc & hc              test     0.748      0.737   0.673   0.698   \n",
       "\n",
       "                                   misclass_indicies  \\\n",
       "0                                                 []   \n",
       "1  [7, 8, 10, 12, 15, 18, 19, 23, 27, 32, 33, 43,...   \n",
       "\n",
       "                                         predictions  \n",
       "0                                                 []  \n",
       "1  [positive, neutral, neutral, neutral, neutral,...  "
      ]
     },
     "execution_count": 4,
     "metadata": {},
     "output_type": "execute_result"
    },
    {
     "data": {
      "image/png": "[encoded data removed]",
      "text/plain": [
       "<Figure size 432x288 with 2 Axes>"
      ]
     },
     "metadata": {},
     "output_type": "display_data"
    }
   ],
   "source": [
    "# test train split\n",
    "X_train, X_test, y_train, y_test = train_test_split(df_phrase['text'], \n",
    "                                                    df_phrase['sentiment'], \n",
    "                                                    test_size=config.TEST_SIZE, \n",
    "                                                    random_state = config.RANDOM_STATE)\n",
    "\n",
    "# reset indicies -- required for heirachical classifier\n",
    "# comparisson of models misclassified indicies in seperate notebook\n",
    "# indicies required to be in line accross notebooks\n",
    "X_train = X_train.reset_index(drop=True)\n",
    "y_train = y_train.reset_index(drop=True)\n",
    "X_test = X_test.reset_index(drop=True)\n",
    "y_test = y_test.reset_index(drop=True)\n",
    "\n",
    "# model\n",
    "model_1 = Pipeline([('tfidf', TfidfVectorizer()),\n",
    "                 ('model', LinearSVC())])\n",
    "model_2 = Pipeline([('tfidf', TfidfVectorizer()),\n",
    "                 ('model', LinearSVC())])\n",
    "hclass = hierarchical_classifier.heirarchical_classifier(model_1, model_2, y_test, ['positive','negative'], 'polarized', 'neutral')\n",
    "\n",
    "# evaluator fits, predicts and returns metrics for model\n",
    "_eval = evaluator.evaluator('tfid & svc & hc', hclass, X_train, y_train, X_test, y_test)\n",
    "_eval.plot_confusion()\n",
    "_eval.get_results()"
   ]
  },
  {
   "cell_type": "code",
   "execution_count": 5,
   "metadata": {},
   "outputs": [],
   "source": [
    "_eval.save_results('results/results.csv')"
   ]
  }
 ],
 "metadata": {
  "kernelspec": {
   "display_name": "conda_python3",
   "language": "python",
   "name": "conda_python3"
  },
  "language_info": {
   "codemirror_mode": {
    "name": "ipython",
    "version": 3
   },
   "file_extension": ".py",
   "mimetype": "text/x-python",
   "name": "python",
   "nbconvert_exporter": "python",
   "pygments_lexer": "ipython3",
   "version": "3.6.5"
  }
 },
 "nbformat": 4,
 "nbformat_minor": 4
}
